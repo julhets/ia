{
 "cells": [
  {
   "cell_type": "markdown",
   "metadata": {},
   "source": [
    "# Stock Prediction with Recurrent Neural Network\n",
    "\n",
    "Deep learning is involved a lot in the modern quantitive financial field. There are many different neural networks can be applied to stock price prediction problems. The recurrent neural network, to be specific, the Long Short Term Memory(LSTM) network outperforms others architecture since it can take advantage of predicting time series (or sequentially) involved result with a specific configuration.\n",
    "\n",
    "We will make a really simple LSTM with Keras to predict the stock price in the Chinese stock."
   ]
  },
  {
   "cell_type": "code",
   "execution_count": null,
   "metadata": {},
   "outputs": [],
   "source": [
    "import time\n",
    "import math\n",
    "from keras.models import Sequential\n",
    "from keras.layers.core import Dense, Dropout, Activation\n",
    "from keras.layers.recurrent import LSTM\n",
    "import numpy as np\n",
    "import pandas as pd\n",
    "\n",
    "import sklearn.preprocessing as prep"
   ]
  },
  {
   "cell_type": "markdown",
   "metadata": {},
   "source": [
    "## Import Data\n",
    "\n",
    "I have introduced how we get this dataset both in README.md and in another notebook."
   ]
  },
  {
   "cell_type": "code",
   "execution_count": 6,
   "metadata": {},
   "outputs": [
    {
     "data": {
      "text/html": [
       "<div>\n",
       "<style scoped>\n",
       "    .dataframe tbody tr th:only-of-type {\n",
       "        vertical-align: middle;\n",
       "    }\n",
       "\n",
       "    .dataframe tbody tr th {\n",
       "        vertical-align: top;\n",
       "    }\n",
       "\n",
       "    .dataframe thead th {\n",
       "        text-align: right;\n",
       "    }\n",
       "</style>\n",
       "<table border=\"1\" class=\"dataframe\">\n",
       "  <thead>\n",
       "    <tr style=\"text-align: right;\">\n",
       "      <th></th>\n",
       "      <th>open</th>\n",
       "      <th>high</th>\n",
       "      <th>low</th>\n",
       "      <th>amount</th>\n",
       "      <th>volume</th>\n",
       "      <th>close</th>\n",
       "    </tr>\n",
       "  </thead>\n",
       "  <tbody>\n",
       "    <tr>\n",
       "      <th>0</th>\n",
       "      <td>19.84</td>\n",
       "      <td>20.20</td>\n",
       "      <td>19.50</td>\n",
       "      <td>16115677.0</td>\n",
       "      <td>2806.0</td>\n",
       "      <td>19.84</td>\n",
       "    </tr>\n",
       "    <tr>\n",
       "      <th>1</th>\n",
       "      <td>20.04</td>\n",
       "      <td>20.10</td>\n",
       "      <td>19.56</td>\n",
       "      <td>14809879.0</td>\n",
       "      <td>2267.0</td>\n",
       "      <td>19.85</td>\n",
       "    </tr>\n",
       "    <tr>\n",
       "      <th>2</th>\n",
       "      <td>19.76</td>\n",
       "      <td>19.76</td>\n",
       "      <td>19.00</td>\n",
       "      <td>23285001.0</td>\n",
       "      <td>3900.0</td>\n",
       "      <td>19.19</td>\n",
       "    </tr>\n",
       "    <tr>\n",
       "      <th>3</th>\n",
       "      <td>19.28</td>\n",
       "      <td>19.60</td>\n",
       "      <td>18.87</td>\n",
       "      <td>22777104.0</td>\n",
       "      <td>4855.0</td>\n",
       "      <td>18.87</td>\n",
       "    </tr>\n",
       "    <tr>\n",
       "      <th>4</th>\n",
       "      <td>18.72</td>\n",
       "      <td>18.80</td>\n",
       "      <td>18.35</td>\n",
       "      <td>18331154.0</td>\n",
       "      <td>3682.0</td>\n",
       "      <td>18.56</td>\n",
       "    </tr>\n",
       "  </tbody>\n",
       "</table>\n",
       "</div>"
      ],
      "text/plain": [
       "    open   high    low      amount  volume  close\n",
       "0  19.84  20.20  19.50  16115677.0  2806.0  19.84\n",
       "1  20.04  20.10  19.56  14809879.0  2267.0  19.85\n",
       "2  19.76  19.76  19.00  23285001.0  3900.0  19.19\n",
       "3  19.28  19.60  18.87  22777104.0  4855.0  18.87\n",
       "4  18.72  18.80  18.35  18331154.0  3682.0  18.56"
      ]
     },
     "execution_count": 6,
     "metadata": {},
     "output_type": "execute_result"
    }
   ],
   "source": [
    "df = pd.read_csv('/home/jovyan/work/DataScience-Python3/stock-prediction-master/btow3_stock_data.csv')\n",
    "df.head()"
   ]
  },
  {
   "cell_type": "markdown",
   "metadata": {},
   "source": [
    "## Preprocess Data\n",
    "\n",
    "We can see from the table above that the scales of our features vary a lot. It will be beneficial to normalize your training data before you feed data into your model. \"Having different features with widely different scales fed to your model will cause the network to weight the features not equally. This can cause a falsely prioritisation of some features over the others in the representation.\" Read [here](http://stackoverflow.com/a/43526354/6670143) for more detailed explanation."
   ]
  },
  {
   "cell_type": "code",
   "execution_count": 7,
   "metadata": {},
   "outputs": [],
   "source": [
    "def standard_scaler(X_train, X_test):\n",
    "    train_samples, train_nx, train_ny = X_train.shape\n",
    "    test_samples, test_nx, test_ny = X_test.shape\n",
    "    \n",
    "    X_train = X_train.reshape((train_samples, train_nx * train_ny))\n",
    "    X_test = X_test.reshape((test_samples, test_nx * test_ny))\n",
    "    \n",
    "    preprocessor = prep.StandardScaler().fit(X_train)\n",
    "    X_train = preprocessor.transform(X_train)\n",
    "    X_test = preprocessor.transform(X_test)\n",
    "    \n",
    "    X_train = X_train.reshape((train_samples, train_nx, train_ny))\n",
    "    X_test = X_test.reshape((test_samples, test_nx, test_ny))\n",
    "    \n",
    "    return X_train, X_test"
   ]
  },
  {
   "cell_type": "markdown",
   "metadata": {},
   "source": [
    "Split the data to X_train, y_train, X_test, y_test"
   ]
  },
  {
   "cell_type": "code",
   "execution_count": 8,
   "metadata": {},
   "outputs": [],
   "source": [
    "def preprocess_data(stock, seq_len):\n",
    "    amount_of_features = len(stock.columns)\n",
    "    data = stock.values\n",
    "    \n",
    "    sequence_length = seq_len + 1\n",
    "    result = []\n",
    "    for index in range(len(data) - sequence_length):\n",
    "        result.append(data[index : index + sequence_length])\n",
    "        \n",
    "    result = np.array(result)\n",
    "    row = round(0.9 * result.shape[0])\n",
    "    train = result[: int(row), :]\n",
    "    \n",
    "    train, result = standard_scaler(train, result)\n",
    "    \n",
    "    X_train = train[:, : -1]\n",
    "    y_train = train[:, -1][: ,-1]\n",
    "    X_test = result[int(row) :, : -1]\n",
    "    y_test = result[int(row) :, -1][ : ,-1]\n",
    "\n",
    "    X_train = np.reshape(X_train, (X_train.shape[0], X_train.shape[1], amount_of_features))\n",
    "    X_test = np.reshape(X_test, (X_test.shape[0], X_test.shape[1], amount_of_features))  \n",
    "\n",
    "    return [X_train, y_train, X_test, y_test]"
   ]
  },
  {
   "cell_type": "markdown",
   "metadata": {},
   "source": [
    "## Build the LSTM Network\n",
    "\n",
    "Here we will build a simple RNN with 2 LSTM layers.\n",
    "The architecture is:\n",
    "    \n",
    "    LSTM --> Dropout --> LSTM --> Dropout --> Fully-Conneted(Dense)"
   ]
  },
  {
   "cell_type": "code",
   "execution_count": 9,
   "metadata": {},
   "outputs": [],
   "source": [
    "def build_model(layers):\n",
    "    model = Sequential()\n",
    "\n",
    "    # By setting return_sequences to True we are able to stack another LSTM layer\n",
    "    model.add(LSTM(\n",
    "        input_dim=layers[0],\n",
    "        output_dim=layers[1],\n",
    "        return_sequences=True))\n",
    "    model.add(Dropout(0.4))\n",
    "\n",
    "    model.add(LSTM(\n",
    "        layers[2],\n",
    "        return_sequences=False))\n",
    "    model.add(Dropout(0.3))\n",
    "\n",
    "    model.add(Dense(\n",
    "        output_dim=layers[3]))\n",
    "    model.add(Activation(\"linear\"))\n",
    "\n",
    "    start = time.time()\n",
    "    model.compile(loss=\"mse\", optimizer=\"rmsprop\", metrics=['accuracy'])\n",
    "    print(\"Compilation Time : \", time.time() - start)\n",
    "    return model"
   ]
  },
  {
   "cell_type": "code",
   "execution_count": 30,
   "metadata": {},
   "outputs": [
    {
     "name": "stdout",
     "output_type": "stream",
     "text": [
      "X_train (202, 20, 6)\n",
      "y_train (202,)\n",
      "X_test (22, 20, 6)\n",
      "y_test (22,)\n",
      "[[[ 2.64360806  2.57370146  2.39575827  0.34743669  0.19187214  2.21855734]\n",
      "  [ 3.01659092  2.79466729  2.82336163 -0.12436959 -0.16401656  2.65781743]\n",
      "  [ 2.93532657  2.96506392  2.97766389 -0.2455983  -0.37032934  3.02952683]\n",
      "  ..., \n",
      "  [ 2.76119332  2.56381247  2.64044101  0.3750108   0.71472098  2.41612627]\n",
      "  [ 2.83320553  2.63172389  2.8515336   0.25159498  0.45580472  2.78323175]\n",
      "  [ 2.89867601  2.78955248  3.15058481 -0.44973333 -0.69498127  3.00183805]]\n",
      "\n",
      " [[ 2.95758696  2.74166505  2.77577032 -0.12975532 -0.17036484  2.6178983 ]\n",
      "  [ 2.86302068  2.90226103  2.91164119 -0.24740598 -0.37459565  2.96966184]\n",
      "  [ 2.75233404  2.98470555  2.88802802  0.15292099  0.01442256  2.93296683]\n",
      "  ..., \n",
      "  [ 2.78166585  2.58875696  2.80147143  0.24733648  0.44948232  2.74274488]\n",
      "  [ 2.84613009  2.74488071  3.09025444 -0.45457682 -0.70123355  2.94771614]\n",
      "  [ 2.86996102  2.86051839  3.00990179  0.49155788  1.0126405   2.87200355]]\n",
      "\n",
      " [[ 2.80601094  2.84797111  2.86312942 -0.2529095  -0.38145258  2.92706549]\n",
      "  [ 2.68312411  2.9216279   2.82336163  0.15131068  0.01087516  2.87437605]\n",
      "  [ 2.28815787  2.53949543  2.47122119 -0.019126   -0.35358048  2.71790135]\n",
      "  ..., \n",
      "  [ 2.79446117  2.70100719  3.03782251 -0.45901685 -0.70679245  2.90605418]\n",
      "  [ 2.81769605  2.8152894   2.95121923  0.48753448  1.00759816  2.81921271]\n",
      "  [ 2.68983973  2.73632805  2.93823308  0.14767277  0.26600204  2.84343996]]\n",
      "\n",
      " ..., \n",
      " [[-1.21291906 -1.078975   -1.14446899  0.28520212  0.67659214 -0.94611241]\n",
      "  [-1.25266183 -1.30035015 -1.17128837 -0.06959439 -0.99829734 -1.24023761]\n",
      "  [-1.25118547 -1.31244502 -1.15679093 -0.54826271 -0.42906828 -1.27178267]\n",
      "  ..., \n",
      "  [-1.43567357 -1.31006758 -1.32038766 -0.22749766  0.00442475 -1.18943693]\n",
      "  [-1.57407132 -1.48466976 -1.39559878 -0.82065733 -1.40117029 -1.34429862]\n",
      "  [-1.74793124 -1.72438629 -1.62998349 -0.28074579 -1.0451623  -1.58132001]]\n",
      "\n",
      " [[-1.2562265  -1.30434387 -1.17722865 -0.07492769 -1.00666082 -1.24669162]\n",
      "  [-1.25266183 -1.31541327 -1.16025342 -0.55022028 -0.43344435 -1.27488699]\n",
      "  [-1.36053466 -1.37136988 -1.26435398 -0.70844647 -0.99664221 -1.22569721]\n",
      "  ..., \n",
      "  [-1.58154029 -1.49465684 -1.40350013 -0.82519147 -1.40626731 -1.35529794]\n",
      "  [-1.75501524 -1.73361477 -1.63431963 -0.28544205 -1.05166271 -1.58845515]\n",
      "  [-1.91761072 -1.84097314 -1.74677694 -0.48894412 -0.48984564 -1.73192804]]\n",
      "\n",
      " [[-1.2562265  -1.31922672 -1.16630877 -0.55601371 -0.44044343 -1.28104353]\n",
      "  [-1.360161   -1.37351389 -1.26618889 -0.71048337 -1.00207878 -1.22940968]\n",
      "  [-1.56138012 -1.51322605 -1.41225318 -0.46303425 -0.88081561 -1.35736995]\n",
      "  ..., \n",
      "  [-1.76067485 -1.74160734 -1.63985122 -0.28983861 -1.05699037 -1.59771019]\n",
      "  [-1.92303459 -1.84928619 -1.74974509 -0.49382177 -0.49595257 -1.73751913]\n",
      "  [-2.0481334  -1.96009449 -1.87949677 -0.64262966 -0.70142773 -1.92927648]]]\n"
     ]
    }
   ],
   "source": [
    "window = 20\n",
    "X_train, y_train, X_test, y_test = preprocess_data(df[:: -1], window)\n",
    "print(\"X_train\", X_train.shape)\n",
    "print(\"y_train\", y_train.shape)\n",
    "print(\"X_test\", X_test.shape)\n",
    "print(\"y_test\", y_test.shape)\n",
    "\n",
    "print(X_train)"
   ]
  },
  {
   "cell_type": "code",
   "execution_count": 23,
   "metadata": {},
   "outputs": [
    {
     "name": "stderr",
     "output_type": "stream",
     "text": [
      "/opt/conda/lib/python3.6/site-packages/ipykernel_launcher.py:8: UserWarning: The `input_dim` and `input_length` arguments in recurrent layers are deprecated. Use `input_shape` instead.\n",
      "  \n",
      "/opt/conda/lib/python3.6/site-packages/ipykernel_launcher.py:8: UserWarning: Update your `LSTM` call to the Keras 2 API: `LSTM(return_sequences=True, input_shape=(None, 6), units=20)`\n",
      "  \n"
     ]
    },
    {
     "name": "stdout",
     "output_type": "stream",
     "text": [
      "Compilation Time :  0.03210091590881348\n"
     ]
    },
    {
     "name": "stderr",
     "output_type": "stream",
     "text": [
      "/opt/conda/lib/python3.6/site-packages/ipykernel_launcher.py:17: UserWarning: Update your `Dense` call to the Keras 2 API: `Dense(units=1)`\n"
     ]
    }
   ],
   "source": [
    "model = build_model([X_train.shape[2], window, 100, 1])"
   ]
  },
  {
   "cell_type": "markdown",
   "metadata": {},
   "source": [
    "## Training the Network\n",
    "\n",
    "You can play with the hyperparameters here. The training process can take a significant time if you are using a average GPU or CPU(worse!)."
   ]
  },
  {
   "cell_type": "code",
   "execution_count": 24,
   "metadata": {},
   "outputs": [
    {
     "data": {
      "text/plain": [
       "<keras.callbacks.History at 0x7f4654a5bf28>"
      ]
     },
     "execution_count": 24,
     "metadata": {},
     "output_type": "execute_result"
    }
   ],
   "source": [
    "model.fit(\n",
    "    X_train,\n",
    "    y_train,\n",
    "    batch_size=768,\n",
    "    epochs=5,\n",
    "    validation_split=0.1,\n",
    "    verbose=0)"
   ]
  },
  {
   "cell_type": "code",
   "execution_count": 25,
   "metadata": {},
   "outputs": [
    {
     "name": "stdout",
     "output_type": "stream",
     "text": [
      "Train Score: 0.39 MSE (0.62 RMSE)\n",
      "Test Score: 4.79 MSE (2.19 RMSE)\n"
     ]
    }
   ],
   "source": [
    "trainScore = model.evaluate(X_train, y_train, verbose=0)\n",
    "print('Train Score: %.2f MSE (%.2f RMSE)' % (trainScore[0], math.sqrt(trainScore[0])))\n",
    "\n",
    "testScore = model.evaluate(X_test, y_test, verbose=0)\n",
    "print('Test Score: %.2f MSE (%.2f RMSE)' % (testScore[0], math.sqrt(testScore[0])))"
   ]
  },
  {
   "cell_type": "markdown",
   "metadata": {},
   "source": [
    "## Visualize the Prediction"
   ]
  },
  {
   "cell_type": "code",
   "execution_count": 26,
   "metadata": {},
   "outputs": [],
   "source": [
    "diff = []\n",
    "ratio = []\n",
    "pred = model.predict(X_test)\n",
    "for u in range(len(y_test)):\n",
    "    pr = pred[u][0]\n",
    "    ratio.append((y_test[u] / pr) - 1)\n",
    "    diff.append(abs(y_test[u] - pr))"
   ]
  },
  {
   "cell_type": "code",
   "execution_count": 27,
   "metadata": {},
   "outputs": [],
   "source": [
    "# TODO: Scale it back"
   ]
  },
  {
   "cell_type": "code",
   "execution_count": 28,
   "metadata": {},
   "outputs": [
    {
     "data": {
      "image/png": "[encoded data removed]",
      "text/plain": [
       "<Figure size 432x288 with 1 Axes>"
      ]
     },
     "metadata": {
      "needs_background": "light"
     },
     "output_type": "display_data"
    }
   ],
   "source": [
    "# if using within a jupyter notebook\n",
    "%matplotlib inline \n",
    "\n",
    "import matplotlib\n",
    "import matplotlib.pyplot as plt2\n",
    "\n",
    "plt2.plot(pred, color='red', label='Prediction')\n",
    "plt2.plot(y_test, color='blue', label='Ground Truth')\n",
    "plt2.legend(loc='upper left')\n",
    "plt2.show()"
   ]
  },
  {
   "cell_type": "code",
   "execution_count": null,
   "metadata": {},
   "outputs": [],
   "source": []
  }
 ],
 "metadata": {
  "kernelspec": {
   "display_name": "Python 3",
   "language": "python",
   "name": "python3"
  },
  "language_info": {
   "codemirror_mode": {
    "name": "ipython",
    "version": 3
   },
   "file_extension": ".py",
   "mimetype": "text/x-python",
   "name": "python",
   "nbconvert_exporter": "python",
   "pygments_lexer": "ipython3",
   "version": "3.6.7"
  },
  "widgets": {
   "state": {},
   "version": "1.1.2"
  }
 },
 "nbformat": 4,
 "nbformat_minor": 2
}
