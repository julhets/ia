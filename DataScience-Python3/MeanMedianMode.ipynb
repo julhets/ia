{
 "cells": [
  {
   "cell_type": "markdown",
   "metadata": {},
   "source": [
    "# Mean, Median, Mode, and introducing NumPy"
   ]
  },
  {
   "cell_type": "markdown",
   "metadata": {},
   "source": [
    "## Mean vs. Median"
   ]
  },
  {
   "cell_type": "markdown",
   "metadata": {},
   "source": [
    "Let's create some fake income data, centered around 27,000 with a normal distribution and standard deviation of 15,000, with 10,000 data points. (We'll discuss those terms more later, if you're not familiar with them.)\n",
    "\n",
    "Then, compute the mean (average) - it should be close to 27,000:"
   ]
  },
  {
   "cell_type": "code",
   "execution_count": 22,
   "metadata": {},
   "outputs": [
    {
     "data": {
      "text/plain": [
       "27153.282515978513"
      ]
     },
     "execution_count": 22,
     "metadata": {},
     "output_type": "execute_result"
    }
   ],
   "source": [
    "import numpy as np\n",
    "\n",
    "incomes = np.random.normal(27000, 15000, 10000)\n",
    "np.mean(incomes)"
   ]
  },
  {
   "cell_type": "markdown",
   "metadata": {},
   "source": [
    "We can segment the income data into 50 buckets, and plot it as a histogram:"
   ]
  },
  {
   "cell_type": "code",
   "execution_count": 30,
   "metadata": {},
   "outputs": [
    {
     "data": {
      "image/png": "[encoded data removed]",
      "text/plain": [
       "<Figure size 432x288 with 1 Axes>"
      ]
     },
     "metadata": {
      "needs_background": "light"
     },
     "output_type": "display_data"
    }
   ],
   "source": [
    "%matplotlib inline\n",
    "import matplotlib.pyplot as plt\n",
    "plt.hist(incomes, 50)\n",
    "plt.show()"
   ]
  },
  {
   "cell_type": "markdown",
   "metadata": {},
   "source": [
    "Now compute the median - since we have a nice, even distribution it too should be close to 27,000:"
   ]
  },
  {
   "cell_type": "code",
   "execution_count": 9,
   "metadata": {},
   "outputs": [
    {
     "data": {
      "text/plain": [
       "27067.99058986039"
      ]
     },
     "execution_count": 9,
     "metadata": {},
     "output_type": "execute_result"
    }
   ],
   "source": [
    "np.median(incomes)"
   ]
  },
  {
   "cell_type": "markdown",
   "metadata": {},
   "source": [
    "Now we'll add Donald Trump into the mix. Darn income inequality!"
   ]
  },
  {
   "cell_type": "code",
   "execution_count": 10,
   "metadata": {},
   "outputs": [],
   "source": [
    "incomes = np.append(incomes, [1000000000])"
   ]
  },
  {
   "cell_type": "markdown",
   "metadata": {},
   "source": [
    "The median won't change much, but the mean does:"
   ]
  },
  {
   "cell_type": "code",
   "execution_count": 11,
   "metadata": {},
   "outputs": [
    {
     "data": {
      "text/plain": [
       "27068.038281872254"
      ]
     },
     "execution_count": 11,
     "metadata": {},
     "output_type": "execute_result"
    }
   ],
   "source": [
    "np.median(incomes)"
   ]
  },
  {
   "cell_type": "code",
   "execution_count": 12,
   "metadata": {},
   "outputs": [
    {
     "data": {
      "text/plain": [
       "126958.72033490466"
      ]
     },
     "execution_count": 12,
     "metadata": {},
     "output_type": "execute_result"
    }
   ],
   "source": [
    "np.mean(incomes)"
   ]
  },
  {
   "cell_type": "markdown",
   "metadata": {},
   "source": [
    "## Mode"
   ]
  },
  {
   "cell_type": "markdown",
   "metadata": {},
   "source": [
    "Next, let's generate some fake age data for 500 people:"
   ]
  },
  {
   "cell_type": "code",
   "execution_count": 17,
   "metadata": {},
   "outputs": [
    {
     "data": {
      "text/plain": [
       "array([55, 75, 62, 26, 35, 58, 28, 83, 74, 55, 57, 41, 37, 68, 68, 89, 54,\n",
       "       60, 53, 58, 49, 75, 45, 50, 73, 60, 80, 66, 36, 26, 67, 38, 40, 20,\n",
       "       55, 43, 76, 80, 89, 82, 54, 58, 42, 50, 50, 86, 85, 44, 59, 45, 48,\n",
       "       30, 75, 58, 82, 67, 77, 62, 78, 73, 79, 47, 76, 39, 69, 86, 72, 18,\n",
       "       89, 57, 44, 38, 39, 59, 33, 59, 22, 74, 86, 67, 35, 86, 64, 35, 42,\n",
       "       78, 29, 72, 29, 38, 66, 60, 65, 89, 55, 24, 37, 80, 77, 18, 86, 44,\n",
       "       55, 53, 40, 22, 83, 26, 51, 85, 76, 62, 42, 60, 20, 48, 30, 88, 85,\n",
       "       27, 67, 44, 28, 25, 32, 71, 54, 72, 28, 87, 48, 21, 59, 78, 34, 45,\n",
       "       46, 69, 33, 58, 45, 67, 70, 19, 72, 56, 64, 50, 47, 62, 67, 28, 50,\n",
       "       75, 29, 33, 73, 35, 88, 58, 43, 33, 27, 24, 83, 43, 60, 46, 66, 68,\n",
       "       82, 53, 63, 44, 47, 28, 44, 68, 38, 62, 74, 54, 52, 85, 77, 59, 81,\n",
       "       19, 61, 89, 89, 57, 64, 29, 83, 60, 73, 28, 63, 89, 25, 28, 39, 42,\n",
       "       52, 71, 32, 83, 81, 20, 37, 27, 54, 65, 88, 30, 68, 29, 83, 53, 23,\n",
       "       79, 37, 60, 19, 53, 50, 29, 60, 37, 72, 49, 74, 61, 78, 82, 80, 38,\n",
       "       43, 87, 58, 66, 43, 63, 79, 20, 25, 60, 34, 37, 38, 35, 74, 84, 29,\n",
       "       70, 49, 80, 48, 76, 49, 28, 44, 70, 30, 53, 42, 37, 30, 19, 69, 27,\n",
       "       44, 21, 26, 88, 31, 30, 38, 19, 62, 46, 42, 70, 51, 62, 18, 74, 42,\n",
       "       19, 41, 71, 74, 28, 68, 47, 36, 19, 88, 89, 72, 20, 37, 57, 25, 36,\n",
       "       65, 70, 82, 41, 20, 37, 53, 56, 45, 60, 84, 27, 56, 70, 53, 68, 56,\n",
       "       62, 40, 28, 77, 79, 65, 47, 33, 54, 59, 58, 56, 73, 29, 51, 42, 74,\n",
       "       34, 80, 72, 26, 54, 43, 55, 75, 53, 26, 23, 21, 29, 76, 20, 54, 85,\n",
       "       25, 59, 77, 45, 54, 23, 60, 39, 74, 49, 29, 75, 31, 34, 50, 87, 35,\n",
       "       22, 35, 69, 81, 46, 49, 59, 30, 89, 82, 28, 54, 67, 79, 56, 62, 84,\n",
       "       55, 56, 25, 80, 69, 40, 89, 77, 63, 22, 59, 45, 34, 25, 70, 78, 62,\n",
       "       54, 69, 19, 55, 67, 60, 33, 47, 61, 81, 19, 69, 62, 68, 82, 53, 49,\n",
       "       65, 76, 76, 66, 56, 35, 43, 56, 30, 49, 49, 39, 84, 75, 61, 29, 68,\n",
       "       62, 23, 28, 70, 71, 50, 20, 54, 77, 41, 77, 44, 55, 76, 74, 89, 48,\n",
       "       34, 27, 40, 18, 37, 61, 26, 52, 34, 76, 50, 65, 67, 27, 59, 49, 25,\n",
       "       71, 55, 66, 64, 31, 52, 44, 21, 66, 65, 67, 86, 31, 70, 31, 86, 62,\n",
       "       28, 68, 39, 69, 84, 42, 30])"
      ]
     },
     "execution_count": 17,
     "metadata": {},
     "output_type": "execute_result"
    }
   ],
   "source": [
    "ages = np.random.randint(18, high=90, size=500)\n",
    "ages"
   ]
  },
  {
   "cell_type": "code",
   "execution_count": 19,
   "metadata": {},
   "outputs": [
    {
     "data": {
      "text/plain": [
       "ModeResult(mode=array([28]), count=array([13]))"
      ]
     },
     "execution_count": 19,
     "metadata": {},
     "output_type": "execute_result"
    }
   ],
   "source": [
    "from scipy import stats\n",
    "stats.mode(ages)"
   ]
  },
  {
   "cell_type": "code",
   "execution_count": null,
   "metadata": {},
   "outputs": [],
   "source": []
  }
 ],
 "metadata": {
  "kernelspec": {
   "display_name": "Python 3",
   "language": "python",
   "name": "python3"
  },
  "language_info": {
   "codemirror_mode": {
    "name": "ipython",
    "version": 3
   },
   "file_extension": ".py",
   "mimetype": "text/x-python",
   "name": "python",
   "nbconvert_exporter": "python",
   "pygments_lexer": "ipython3",
   "version": "3.6.7"
  }
 },
 "nbformat": 4,
 "nbformat_minor": 1
}
